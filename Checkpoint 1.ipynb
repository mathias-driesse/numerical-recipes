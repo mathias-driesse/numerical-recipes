{
 "cells": [
  {
   "cell_type": "markdown",
   "metadata": {
    "deletable": false,
    "editable": false,
    "nbgrader": {
     "cell_type": "markdown",
     "checksum": "ba4c70a873d1b4f36f5e3df0eddb4481",
     "grade": false,
     "grade_id": "header",
     "locked": true,
     "schema_version": 3,
     "solution": false,
     "task": false
    }
   },
   "source": [
    "# Checkpoint 1\n",
    "\n",
    "**Due: Friday, 16 October, 2020 at 5:00pm BST**\n",
    "\n",
    "### Read This First\n",
    "1. Use the constants provided in the cell below. Do not use your own constants.\n",
    "\n",
    "2. Put the code that produces the output for a given task in the cell indicated. You are welcome to add as many cells as you like for imports, function definitions, variables, etc. **Additional cells need to be in the proper order such that your code runs correctly the first time through.**\n",
    "\n",
    "3. **IMPORTANT!** Before submitting your notebook, clear the output by clicking *Restart & Clear Output* from the *Kernel* menu. If you do not do this, the file size of your notebook will be very large."
   ]
  },
  {
   "cell_type": "markdown",
   "metadata": {
    "deletable": false,
    "editable": false,
    "nbgrader": {
     "cell_type": "markdown",
     "checksum": "bab2972384c47a99dab98b836e1ba5f4",
     "grade": false,
     "grade_id": "section-libraries",
     "locked": true,
     "schema_version": 3,
     "solution": false,
     "task": false
    }
   },
   "source": [
    "## Libraries and Constants\n",
    "Custom imports and constants should be added to a new cell."
   ]
  },
  {
   "cell_type": "code",
   "execution_count": null,
   "metadata": {
    "deletable": false,
    "editable": false,
    "nbgrader": {
     "cell_type": "code",
     "checksum": "fe7ef72c7480150dac6e323751a47985",
     "grade": false,
     "grade_id": "imports",
     "locked": true,
     "schema_version": 3,
     "solution": false,
     "task": false
    }
   },
   "outputs": [],
   "source": [
    "from IPython.display import HTML\n",
    "import matplotlib.pyplot as plt\n",
    "from matplotlib import animation, rc\n",
    "%matplotlib inline\n",
    "import numpy as np\n",
    "from scipy import integrate, optimize\n",
    "import time\n",
    "\n",
    "plt.rcParams['figure.figsize'] = (10, 6)\n",
    "plt.rcParams['font.size'] = 16\n",
    "\n",
    "# Gravitational constant\n",
    "gg     = 6.67408e-11 # m^3 s^-1 kg^-2\n",
    "# Lunar mass\n",
    "mass   = 7.342e22 # kg\n",
    "# Lunar radius\n",
    "radius = 1738000 # m\n",
    "# 1 day in seconds\n",
    "day    = 3600*24 # seconds\n",
    "\n",
    "### Initial positions and velocities at t=0\n",
    "rs = [1842280, 0] # m\n",
    "vs = [0, 1634]    # m/s"
   ]
  },
  {
   "cell_type": "markdown",
   "metadata": {
    "deletable": false,
    "editable": false,
    "nbgrader": {
     "cell_type": "markdown",
     "checksum": "8ca4db9d303f8dce0560760871271ab5",
     "grade": false,
     "grade_id": "section-equations",
     "locked": true,
     "schema_version": 3,
     "solution": false,
     "task": false
    }
   },
   "source": [
    "## Equations of motion for the unperturbed case:\n",
    "\n",
    "$\n",
    "\\Large\n",
    "\\begin{align}\n",
    "\\frac{d^{2} x}{dt^2} = - \\frac{G M x}{(x^2 + y^2)^{3/2}}\n",
    "\\end{align}\n",
    "$\n",
    "\n",
    "$\n",
    "\\Large\n",
    "\\begin{align}\n",
    "\\frac{d^{2} y}{dt^2} = - \\frac{G M y}{(x^2 + y^2)^{3/2}}\n",
    "\\end{align}\n",
    "$"
   ]
  },
  {
   "cell_type": "markdown",
   "metadata": {
    "deletable": false,
    "editable": false,
    "nbgrader": {
     "cell_type": "markdown",
     "checksum": "7f2dabfa2df1d583ef0cf64f3c836f47",
     "grade": false,
     "grade_id": "section-task1",
     "locked": true,
     "schema_version": 3,
     "solution": false,
     "task": false
    }
   },
   "source": [
    "# Task 1 (30p)\n",
    "\n",
    "In the cell below, write a function that computes the trajectory from t = 0 to tmax, where tmax is given as an argument to the function. The function should return two arrays for the x and y positions of the trajectory. Each array should have N points (equally spaced in time), where N is given as an argument to the function. You may create additional cells for defining functions."
   ]
  },
  {
   "cell_type": "code",
   "execution_count": null,
   "metadata": {
    "deletable": false,
    "nbgrader": {
     "cell_type": "code",
     "checksum": "c495aa680522c01f11276e691de6b4cc",
     "grade": false,
     "grade_id": "function-task1",
     "locked": false,
     "schema_version": 3,
     "solution": true,
     "task": false
    }
   },
   "outputs": [],
   "source": [
    "def task1(N, tmax):\n",
    "    \"\"\"\n",
    "    Compute orbital trajectory.\n",
    "    \n",
    "    Parameters\n",
    "    ----------\n",
    "    N : int\n",
    "        Number of points in trajectory arrays\n",
    "    tmax : float\n",
    "        End time of integration in units of seconds.\n",
    "        \n",
    "    Returns\n",
    "    -------\n",
    "    x : array\n",
    "        x positions of the trajectory\n",
    "    y : array\n",
    "        y positions of the trajectory\n",
    "    \"\"\"\n",
    "    ts = np.linspace(0, tmax, N)\n",
    "    trange = (ts[0], ts[-1])\n",
    "    fi = np.array([rs[0], rs[1], vs[0], vs[1]]) # initial conditions\n",
    "    sol = integrate.solve_ivp(projectile_motion, trange, fi, t_eval=ts, dense_output=True, method = 'RK45', max_step = 100)\n",
    "    return sol.y[0], sol.y[1] # returns two arrays, one with the x values and one with the y values"
   ]
  },
  {
   "cell_type": "code",
   "execution_count": null,
   "metadata": {},
   "outputs": [],
   "source": [
    "def projectile_motion(t, f):\n",
    "    \"\"\"\n",
    "    f0 = x  => dx/dt  = vx\n",
    "    f1 = y  => dy/dt  = vy\n",
    "    f2 = vx => dvx/dt = -gg * mass * x / (x**2 + y **2)**1.5\n",
    "    f3 = vy => dvy/dt = -gg * mass * y / (x**2 + y **2)**1.5\n",
    "    \"\"\"\n",
    "    \n",
    "    vals = np.zeros_like(f)\n",
    "    vals[0] = f[2]\n",
    "    vals[1] = f[3]\n",
    "    vals[2] = -gg * mass * f[0] / (f[0]**2 + f[1]**2)**1.5\n",
    "    vals[3] = -gg * mass * f[1] / (f[0]**2 + f[1]**2)**1.5\n",
    "\n",
    "    return vals"
   ]
  },
  {
   "cell_type": "code",
   "execution_count": null,
   "metadata": {},
   "outputs": [],
   "source": [
    "import matplotlib # debug import"
   ]
  },
  {
   "cell_type": "markdown",
   "metadata": {
    "deletable": false,
    "editable": false,
    "nbgrader": {
     "cell_type": "markdown",
     "checksum": "d90652557187df98ce1f79a8e0f6e7d7",
     "grade": false,
     "grade_id": "section-testing-task1",
     "locked": true,
     "schema_version": 3,
     "solution": false,
     "task": false
    }
   },
   "source": [
    "## Testing task 1\n",
    "\n",
    "The cell below will run your function with inputs of tmax = 1 day (in seconds) and some number of points. The assert statements below will test that the returned arrays are the correct size."
   ]
  },
  {
   "cell_type": "code",
   "execution_count": null,
   "metadata": {
    "deletable": false,
    "editable": false,
    "nbgrader": {
     "cell_type": "code",
     "checksum": "00e9fba3ad58031d7f0e2c256507de8a",
     "grade": true,
     "grade_id": "test-task1",
     "locked": true,
     "points": 1,
     "schema_version": 3,
     "solution": false,
     "task": false
    }
   },
   "outputs": [],
   "source": [
    "t_max = day\n",
    "n_points = int(t_max / 100)\n",
    "\n",
    "x_pos, y_pos = task1(n_points, t_max)\n",
    "\n",
    "assert x_pos.size == n_points\n",
    "assert y_pos.size == n_points"
   ]
  },
  {
   "cell_type": "markdown",
   "metadata": {
    "deletable": false,
    "editable": false,
    "nbgrader": {
     "cell_type": "markdown",
     "checksum": "d672c30fdc5edee7919a08e4cee83f47",
     "grade": false,
     "grade_id": "section-task1-cont",
     "locked": true,
     "schema_version": 3,
     "solution": false,
     "task": false
    }
   },
   "source": [
    "# Task 1 continued\n",
    "\n",
    "In the cell below, create an animation of the spacecraft's trajectory for t = 0 to 24 hours that includes a circle representing the Moon. Each frame of the animation should only show the last few points to avoid overlapping a previous orbit. A successful animation will be worth the full 30 points. Alternatively, create a static plot showing the Moon and the spacecraft's trajectory. This will be worth a maximum of 25 points."
   ]
  },
  {
   "cell_type": "code",
   "execution_count": null,
   "metadata": {
    "deletable": false,
    "nbgrader": {
     "cell_type": "code",
     "checksum": "10c4c4925ac544247a2bfd9d58ac8f93",
     "grade": false,
     "grade_id": "plot-task1",
     "locked": false,
     "schema_version": 3,
     "solution": true,
     "task": false
    }
   },
   "outputs": [],
   "source": [
    "fig, ax = plt.subplots()\n",
    "ax.set_xlim(-2000000, 2000000)\n",
    "ax.set_ylim(-2000000, 2000000)\n",
    "point, = plt.plot(0, 0, 'ro') # the spaceship\n",
    "\n",
    "plt.gca().set_aspect(\"equal\") # make it square\n",
    "\n",
    "ax.add_artist(plt.Circle((0, 0), radius)) # the moon\n",
    "\n",
    "def init():\n",
    "    point.set_data([], [])\n",
    "    return (point,)\n",
    "\n",
    "def animate(i):\n",
    "    point.set_data(x_pos[i], y_pos[i])\n",
    "    return (point,)\n",
    "    \n",
    "anim = animation.FuncAnimation(fig, animate, init_func=init, frames=200, interval=20, blit=True)\n",
    "HTML(anim.to_jshtml())"
   ]
  },
  {
   "cell_type": "markdown",
   "metadata": {
    "deletable": false,
    "editable": false,
    "nbgrader": {
     "cell_type": "markdown",
     "checksum": "45bdfa44aa068fad332e8f0c52140742",
     "grade": false,
     "grade_id": "section-task2",
     "locked": true,
     "schema_version": 3,
     "solution": false,
     "task": false
    }
   },
   "source": [
    "# Task 2 (15p)\n",
    "\n",
    "Determine the orbital period T. Your solution must be calculated numerically, i.e., not simply using the analytical expression. The obtained value must be within +/-1 s of the correct value.\n",
    "\n",
    "In the cell below, write a function that returns the orbital period in units of seconds."
   ]
  },
  {
   "cell_type": "code",
   "execution_count": null,
   "metadata": {
    "deletable": false,
    "nbgrader": {
     "cell_type": "code",
     "checksum": "564c94d57db0859bc5bc3dd8c130330d",
     "grade": false,
     "grade_id": "function-task2",
     "locked": false,
     "schema_version": 3,
     "solution": true,
     "task": false
    }
   },
   "outputs": [],
   "source": [
    "t_max = day * 10 # evaluates up to this time\n",
    "n_points = int(t_max) # number of points to evaluate for\n",
    "x_pos, y_pos = task1(n_points, t_max)\n",
    "\n",
    "def task2():\n",
    "    xsign = np.sign(x_pos) # checks sign of the x coordinate\n",
    "    signchange = ((np.roll(xsign, 1) - xsign) != 0).astype(int) # rolling sum to check for sign changes\n",
    "    changes = np.where(signchange == signchange.max())[0] # positions of changes\n",
    "    return (changes[-1] - changes[0]) / (len(changes)-1) * 2 # time between changes divided by number of changes"
   ]
  },
  {
   "cell_type": "markdown",
   "metadata": {
    "deletable": false,
    "editable": false,
    "nbgrader": {
     "cell_type": "markdown",
     "checksum": "f156cc9610f8bbf00670a9702d6cf821",
     "grade": false,
     "grade_id": "section-testing-task2",
     "locked": true,
     "schema_version": 3,
     "solution": false,
     "task": false
    }
   },
   "source": [
    "## Testing task 2\n",
    "\n",
    "The cell below will run your function and compare with the analytic answer. They should agree to within 1 second."
   ]
  },
  {
   "cell_type": "code",
   "execution_count": null,
   "metadata": {
    "deletable": false,
    "editable": false,
    "nbgrader": {
     "cell_type": "code",
     "checksum": "af9a12dbe4b049928b286d824e0550ec",
     "grade": true,
     "grade_id": "test-task2",
     "locked": true,
     "points": 1,
     "schema_version": 3,
     "solution": false,
     "task": false
    }
   },
   "outputs": [],
   "source": [
    "T_calc = task2()\n",
    "t1 = time.time()\n",
    "print (f\"Calculated orbital period: {T_calc} seconds.\")\n",
    "t2 = time.time()\n",
    "\n",
    "mu = gg * mass\n",
    "T_analytic = 2 * np.pi * np.sqrt((rs[0]**3 * mu**2) / (2*mu - rs[0]*vs[1]**2)**3)\n",
    "\n",
    "print (f\"Difference with correct answer: {T_calc - T_analytic} seconds.\")\n",
    "print (f\"Solution calculated in {t2-t1} seconds.\")\n",
    "\n",
    "assert abs(T_calc - T_analytic) <= 1\n",
    "\n",
    "print (\"Hooray!\")"
   ]
  },
  {
   "cell_type": "code",
   "execution_count": null,
   "metadata": {},
   "outputs": [],
   "source": [
    "print(T_analytic)"
   ]
  },
  {
   "cell_type": "markdown",
   "metadata": {
    "deletable": false,
    "editable": false,
    "nbgrader": {
     "cell_type": "markdown",
     "checksum": "3edcf8f65115c589c7e311a1f87932a8",
     "grade": false,
     "grade_id": "section-task3",
     "locked": true,
     "schema_version": 3,
     "solution": false,
     "task": false
    }
   },
   "source": [
    "# Task 3 (20p)\n",
    "\n",
    "Now add a correction that makes the gravitational field non-spherical. The correction rotates with the Moon (one full rotation every T$_{Moon}$ = 27.3 days). How long does it take until the spacecraft hits the Moon? The time must be accurate to +/-1 s. Assume the Moon’s surface is a sphere. The equations of motion now become:\n",
    "\n",
    "$\n",
    "\\Large\n",
    "\\begin{align}\n",
    "\\frac{d^{2} x}{dt^2} = - \\frac{G M x}{(x^2 + y^2)^{3/2}}\n",
    "- \\frac{q\\ G M x^\\prime}{(x^{^\\prime2} + y^{^\\prime2})^{3/2}}\n",
    "\\end{align}\n",
    "$\n",
    "\n",
    "$\n",
    "\\Large\n",
    "\\begin{align}\n",
    "\\frac{d^{2} y}{dt^2} = - \\frac{G M y}{(x^2 + y^2)^{3/2}}\n",
    "- \\frac{q\\ G M y^\\prime}{(x^{^\\prime2} + y^{^\\prime2})^{3/2}}\n",
    "\\end{align}\n",
    "$\n",
    "\n",
    "$\n",
    "\\Large\n",
    "\\begin{align}\n",
    "x^\\prime = x + 0.8\\ R \\cos \\left( \\frac{2 \\pi t}{T_{Moon}} \\right)\n",
    "\\end{align}\n",
    "$\n",
    "\n",
    "$\n",
    "\\Large\n",
    "\\begin{align}\n",
    "y^\\prime = y + 0.8\\ R \\sin \\left( \\frac{2 \\pi t}{T_{Moon}} \\right)\n",
    "\\end{align}\n",
    "$\n",
    "\n",
    "where q = 0.00025.\n",
    "\n",
    "## Task 3 objectives:\n",
    "1. Compute the time at which the spacecraft hits the Moon.\n",
    "2. Make a plot of the height of the spacecraft above the Moon's surface as a function of time. Don't forget to label axes and include units."
   ]
  },
  {
   "cell_type": "markdown",
   "metadata": {
    "deletable": false,
    "editable": false,
    "nbgrader": {
     "cell_type": "markdown",
     "checksum": "72c87d7fb2083b3eca3fa9986455fa68",
     "grade": false,
     "grade_id": "section-task3-part1",
     "locked": true,
     "schema_version": 3,
     "solution": false,
     "task": false
    }
   },
   "source": [
    "# Task 3 part 1\n",
    "\n",
    "In the cell below, create a function that returns the impact time accurate to within 1 second."
   ]
  },
  {
   "cell_type": "code",
   "execution_count": null,
   "metadata": {
    "deletable": false,
    "nbgrader": {
     "cell_type": "code",
     "checksum": "3c77cf0f75fc5abd8561b8c53042c936",
     "grade": false,
     "grade_id": "function-task3",
     "locked": false,
     "schema_version": 3,
     "solution": true,
     "task": false
    }
   },
   "outputs": [],
   "source": [
    "q = 0.00025\n",
    "tmoon = 27.3 * day \n",
    "\n",
    "def task3():\n",
    "    trange = (0, 1000000) # evaluate in this range\n",
    "    \n",
    "    fi = np.array([rs[0], rs[1], vs[0], vs[1]]) # initial conditions\n",
    "    \n",
    "    sol = integrate.solve_ivp(spacecraft, trange, fi, dense_output=True, method = 'RK45', max_step = 10, events = (object_lands))\n",
    "    return float(sol.t_events[0]) # Gets time of crash\n",
    "\n",
    "def spacecraft(t, f): # new differential equations\n",
    "    \n",
    "    vals = np.zeros_like(f)\n",
    "    vals[0] = f[2]\n",
    "    vals[1] = f[3]\n",
    "    xprime = f[0] + 0.8 * radius * np.cos(2 * np.pi * t / tmoon)\n",
    "    yprime = f[1] + 0.8 * radius * np.sin(2 * np.pi * t / tmoon)\n",
    "    vals[2] = -(gg * mass * f[0] / (f[0]**2 + f[1]**2)**1.5) - (q * gg * mass * xprime / (xprime**2 + yprime**2)**1.5)\n",
    "    vals[3] = -(gg * mass * f[1] / (f[0]**2 + f[1]**2)**1.5) - (q * gg * mass * yprime / (xprime**2 + yprime**2)**1.5)\n",
    "\n",
    "    return vals\n",
    "\n",
    "def object_lands(t, f):\n",
    "    return np.linalg.norm([f[0], f[1]]) - radius # checks if object crashes\n",
    "\n",
    "object_lands.terminal = True"
   ]
  },
  {
   "cell_type": "markdown",
   "metadata": {
    "deletable": false,
    "editable": false,
    "nbgrader": {
     "cell_type": "markdown",
     "checksum": "3998b1453205b2cde77cb733cef30c58",
     "grade": false,
     "grade_id": "section-testing-task3-part1",
     "locked": true,
     "schema_version": 3,
     "solution": false,
     "task": false
    }
   },
   "source": [
    "## Testing task 3 part 1\n",
    "\n",
    "The cell below will run your function and print your answer. This will be tested against the correct answer (not given)."
   ]
  },
  {
   "cell_type": "code",
   "execution_count": null,
   "metadata": {
    "deletable": false,
    "editable": false,
    "nbgrader": {
     "cell_type": "code",
     "checksum": "8202b25166bb62d8c69cdda62cfd2495",
     "grade": true,
     "grade_id": "test-task3-part1",
     "locked": true,
     "points": 1,
     "schema_version": 3,
     "solution": false,
     "task": false
    }
   },
   "outputs": [],
   "source": [
    "t1 = time.time()\n",
    "t_impact = task3()\n",
    "t2 = time.time()\n",
    "\n",
    "print (f\"Time to impact: {t_impact:.2f} seconds ({t_impact / day:.2f} days).\")\n",
    "print (f\"Solution calculated in {t2-t1} seconds.\")"
   ]
  },
  {
   "cell_type": "markdown",
   "metadata": {
    "deletable": false,
    "editable": false,
    "nbgrader": {
     "cell_type": "markdown",
     "checksum": "2e8663ce61df1f7a9a1cc5772f0585ee",
     "grade": false,
     "grade_id": "section-task3-part2",
     "locked": true,
     "schema_version": 3,
     "solution": false,
     "task": false
    }
   },
   "source": [
    "## Task 3 part 2\n",
    "\n",
    "In the cell below, plot of the height of the spacecraft above the Moon's surface as a function of time. Don't forget to label axes and include units."
   ]
  },
  {
   "cell_type": "code",
   "execution_count": null,
   "metadata": {
    "deletable": false,
    "nbgrader": {
     "cell_type": "code",
     "checksum": "5d7e29a04fefed1f3e73a33ca1ea1435",
     "grade": false,
     "grade_id": "plot-task3",
     "locked": false,
     "schema_version": 3,
     "solution": true,
     "task": false
    }
   },
   "outputs": [],
   "source": [
    "def task3part2():\n",
    "    trange = (0, 1000000) \n",
    "    \n",
    "    fi = np.array([1842280, rs[1], vs[0], np.sqrt(gg * mass / 1842280)]) # initial conditions\n",
    "    \n",
    "    sol = integrate.solve_ivp(spacecraft, trange, fi, dense_output=True, method = 'RK45', max_step = 100, events = (object_lands))\n",
    "    dis = np.sqrt(sol.y[0]**2 + sol.y[1]**2) - radius\n",
    "    return dis, sol.y[0], sol.y[1]\n",
    "\n",
    "fig, ax = plt.subplots()\n",
    "dis, xqs, yqs = task3part2()\n",
    "plt.xlabel(\"Time (100s)\")\n",
    "plt.ylabel(\"Distance above the surface of the moon (m)\")\n",
    "plt.plot(dis)"
   ]
  },
  {
   "cell_type": "markdown",
   "metadata": {
    "deletable": false,
    "editable": false,
    "nbgrader": {
     "cell_type": "markdown",
     "checksum": "8ede138300fda910e7031211ac7d175e",
     "grade": false,
     "grade_id": "section-task4",
     "locked": true,
     "points": 0,
     "schema_version": 3,
     "solution": false,
     "task": true
    }
   },
   "source": [
    "# Task 4 (10p)\n",
    "\n",
    "Which coordinate (x or y) of the position of the spacecraft after one revolution (orbital period T from task 2) is more sensitive to small changes in the amplitude of the correction? To answer this, calculate the derivatives of dx/dq and dy/dq at t = T, for q = 0. Write your answer in the cell below, describing how you arrived at it. Place any code that demonstrates your solution in the cell with the function called `task4`."
   ]
  },
  {
   "cell_type": "markdown",
   "metadata": {
    "deletable": false,
    "nbgrader": {
     "cell_type": "markdown",
     "checksum": "c0ffcdc91bc88a53adaed587c1fce5bd",
     "grade": true,
     "grade_id": "asnwer-task4",
     "locked": false,
     "points": 0,
     "schema_version": 3,
     "solution": true,
     "task": false
    }
   },
   "source": [
    "We use the formal definition of a derivative:\n",
    "\\begin{align}\n",
    "\\frac{dx}{dq} \\approx \\frac{f(q + dq) - f(q)}{dq}\n",
    "\\end{align}\n",
    "And evaluate this at $q = 0$.\n",
    "\n",
    "The one that has the highest absolute derivative is $y$, so it is more sensitive to small changes in the amplitude of the correction."
   ]
  },
  {
   "cell_type": "code",
   "execution_count": null,
   "metadata": {
    "deletable": false,
    "nbgrader": {
     "cell_type": "code",
     "checksum": "19e4f318a975bcc9cfa96fdb8e3f2a13",
     "grade": false,
     "grade_id": "function-task4",
     "locked": false,
     "schema_version": 3,
     "solution": true,
     "task": false
    }
   },
   "outputs": [],
   "source": [
    "def task4():\n",
    "    def task4part1():\n",
    "        trange = (0, 7139) \n",
    "    \n",
    "        fi = np.array([rs[0], rs[1], vs[0], vs[1]]) # initial conditions\n",
    "    \n",
    "        sol = integrate.solve_ivp(spacecraft, trange, fi, dense_output=True, method = 'RK45', max_step = 1)\n",
    "        return sol.y[0], sol.y[1]\n",
    "    \n",
    "    xqs, yqs = task4part1()\n",
    "    xs, ys = task1(100000, 100000)\n",
    "    t = int(T_calc) - 1\n",
    "    dx_dq = np.abs((xqs[t] - xs[t])/q) # formula for derivative\n",
    "    dy_dq = np.abs((yqs[t] - ys[t])/q) # formula for derivative\n",
    "    if dx_dq > dy_dq:\n",
    "        return \"x\", dx_dq\n",
    "    else:\n",
    "        return \"y\", dy_dq\n",
    "\n",
    "task4()"
   ]
  },
  {
   "cell_type": "markdown",
   "metadata": {
    "deletable": false,
    "editable": false,
    "nbgrader": {
     "cell_type": "markdown",
     "checksum": "5a22d03d39395c6ef172740d35049afe",
     "grade": false,
     "grade_id": "section-task5",
     "locked": true,
     "schema_version": 3,
     "solution": false,
     "task": false
    }
   },
   "source": [
    "# Task 5 (10p)\n",
    "\n",
    "The positions of the spacecraft at t=0, t=T/2, and t=T are given in the cell below. Use them to determine the amplitude of the correction q. Note, this is a different value than for the previous tasks.\n",
    "\n",
    "A comment for those interested in space science: this is a highly simplified and unrealistic version of the task NASA scientists had to carry out to map out the gravity at the Moon's surface using \"telemetry\" data (positions and velocities) of various spacecrafts orbiting the Moon.\n",
    "\n",
    "Put your code in the cell that starts with `def task5():`.\n",
    "\n",
    "Your answer should be within 20% of the correct answer."
   ]
  },
  {
   "cell_type": "code",
   "execution_count": null,
   "metadata": {
    "deletable": false,
    "editable": false,
    "nbgrader": {
     "cell_type": "code",
     "checksum": "6595cdde4fb596b5606e01850c7f8685",
     "grade": true,
     "grade_id": "constants-task5",
     "locked": true,
     "points": 0,
     "schema_version": 3,
     "solution": false,
     "task": false
    }
   },
   "outputs": [],
   "source": [
    "r1 = [1842280.0, 0.0]\n",
    "r2 = [-1856332.7223839264, -717.5195460640389]\n",
    "r3 = [1842271.070055315, 3847.378923359429]"
   ]
  },
  {
   "cell_type": "code",
   "execution_count": null,
   "metadata": {
    "deletable": false,
    "nbgrader": {
     "cell_type": "code",
     "checksum": "69385242762db22937e67cdaba383174",
     "grade": false,
     "grade_id": "function-task5",
     "locked": false,
     "schema_version": 3,
     "solution": true,
     "task": false
    }
   },
   "outputs": [],
   "source": [
    "def task5():\n",
    "    \"\"\"\n",
    "    Task 5 solution here.\n",
    "    \"\"\"\n",
    "    sol2 = optimize.minimize(minimfunc, x0 = [0, 1634, 0.00025], tol = 100000) # minimize this function\n",
    "    return sol2.x[2]\n",
    "\n",
    "def minimfunc(array):\n",
    "    \n",
    "    def spacecraft2(t, f):\n",
    "    \n",
    "        vals = np.zeros_like(f)\n",
    "        vals[0] = f[2]\n",
    "        vals[1] = f[3]\n",
    "        xprime = f[0] + 0.8 * radius * np.cos(2 * np.pi * t / tmoon)\n",
    "        yprime = f[1] + 0.8 * radius * np.sin(2 * np.pi * t / tmoon)\n",
    "        vals[2] = -(gg * mass * f[0] / (f[0]**2 + f[1]**2)**1.5) - (spacecraftq * gg * mass * xprime / (xprime**2 + yprime**2)**1.5)\n",
    "        vals[3] = -(gg * mass * f[1] / (f[0]**2 + f[1]**2)**1.5) - (spacecraftq * gg * mass * yprime / (xprime**2 + yprime**2)**1.5)\n",
    "\n",
    "        return vals\n",
    "    \n",
    "    trange1 = (0, T_analytic/2)\n",
    "    trange2 = (0, T_analytic)\n",
    "    fi = np.array([rs[0], rs[1], array[0], array[1]]) # initial conditions, can we assume vx = 0 or not?\n",
    "    spacecraftq = array[2]\n",
    "    \n",
    "    sol1 = integrate.solve_ivp(spacecraft2, trange1, fi, dense_output=True, method = 'RK45', max_step = 100)\n",
    "    sol2 = integrate.solve_ivp(spacecraft2, trange2, fi, dense_output=True, method = 'RK45', max_step = 100)\n",
    "\n",
    "    r2_calc = np.array([sol1.y[0][-1], sol1.y[1][-1]]) # position at t/2\n",
    "    r3_calc = [sol2.y[0][-1], sol2.y[1][-1]] # position at t\n",
    "    x = np.linalg.norm(np.array(r2) - r2_calc) + np.linalg.norm(np.array(r3) - r3_calc) # difference between r2 and r3 and calculated\n",
    "    return x\n"
   ]
  },
  {
   "cell_type": "markdown",
   "metadata": {
    "deletable": false,
    "editable": false,
    "nbgrader": {
     "cell_type": "markdown",
     "checksum": "c97e07bdcadf4dc597c25e3741513e21",
     "grade": false,
     "grade_id": "section-testing-task5",
     "locked": true,
     "schema_version": 3,
     "solution": false,
     "task": false
    }
   },
   "source": [
    "## Testing task 5\n",
    "\n",
    "The cell below will run your function and print your answer. This will be tested against the correct answer (not given). Your answer should be within 20% of the correct answer."
   ]
  },
  {
   "cell_type": "code",
   "execution_count": null,
   "metadata": {
    "deletable": false,
    "editable": false,
    "nbgrader": {
     "cell_type": "code",
     "checksum": "a21057058ca159c89abefbf09656642e",
     "grade": true,
     "grade_id": "test-task5",
     "locked": true,
     "points": 1,
     "schema_version": 3,
     "solution": false,
     "task": false
    }
   },
   "outputs": [],
   "source": [
    "t1 = time.time()\n",
    "mystery_q = task5()\n",
    "t2 = time.time()\n",
    "\n",
    "print (f\"q = {mystery_q}\")\n",
    "print (f\"Solution calculated in {t2-t1} seconds.\")\n"
   ]
  },
  {
   "cell_type": "markdown",
   "metadata": {
    "deletable": false,
    "editable": false,
    "nbgrader": {
     "cell_type": "markdown",
     "checksum": "a86fc46bd8085b4e983725b95abc9942",
     "grade": false,
     "grade_id": "section-task6",
     "locked": true,
     "schema_version": 3,
     "solution": false,
     "task": false
    }
   },
   "source": [
    "# Task 6 (15p)\n",
    "\n",
    "What is the minimum initial height of a circular orbit such that, for the perturbation from task 3 (q = 0.00025), the spacecraft does not collide with the Moon but remains gravitationally bound to it?\n",
    "\n",
    "The orbit may still show oscillations as in task 3, but the spacecraft cannot not hit the lunar surface.\n",
    "\n",
    "Create a function `task6` that returns the minimum height of the circular orbit in units of meters. Explain your approach. To obtain full marks, the answer must be correct to +/-1 km.\n",
    "\n",
    "The following formula for the velocity of a point mass in circular orbit of radius r, orbiting a spherically symmetric body of mass M, may be useful:\n",
    "\n",
    "$\n",
    "\\Large\n",
    "\\begin{align}\n",
    "v_{c} = \\sqrt{\\frac{G\\ M}{r}}.\n",
    "\\end{align}\n",
    "$\n",
    "\n",
    "In the cell below, create a function that calculates the minimum height of a stable orbit in units of meters. Your answer should be within 1000 meters of the correct answer."
   ]
  },
  {
   "cell_type": "code",
   "execution_count": null,
   "metadata": {
    "deletable": false,
    "nbgrader": {
     "cell_type": "code",
     "checksum": "e9c8c07aeea5e9517c92e13b16009f56",
     "grade": false,
     "grade_id": "function-task6",
     "locked": false,
     "schema_version": 3,
     "solution": true,
     "task": false
    }
   },
   "outputs": [],
   "source": [
    "def task6():\n",
    "    minheight = optimize.brentq(calculate_hit, 1878613, 1900000, )\n",
    "    return minheight - radius\n",
    "\n",
    "def calculate_hit(h):\n",
    "\n",
    "    trange = (0, 2500000) \n",
    "    \n",
    "    fi = np.array([h, 0, 0, np.sqrt(gg * mass / h)]) # initial conditions\n",
    "    \n",
    "    sol = integrate.solve_ivp(spacecraft, trange, fi, dense_output=True, method = 'RK45', max_step = 200)\n",
    "    dis = np.sqrt(sol.y[0]**2 + sol.y[1]**2) - radius\n",
    "    mindis = np.amin(dis)\n",
    "    return mindis\n"
   ]
  },
  {
   "cell_type": "markdown",
   "metadata": {
    "deletable": false,
    "editable": false,
    "nbgrader": {
     "cell_type": "markdown",
     "checksum": "ac3e84b6dd5333dbe0a39a8e4c18c4d4",
     "grade": false,
     "grade_id": "section-testing-task6",
     "locked": true,
     "schema_version": 3,
     "solution": false,
     "task": false
    }
   },
   "source": [
    "## Testing task 6\n",
    "\n",
    "The cell below will run your function and print your answer. This will be tested against the correct answer (not given). Your answer should be within 1000 meters of the correct answer."
   ]
  },
  {
   "cell_type": "code",
   "execution_count": null,
   "metadata": {
    "deletable": false,
    "editable": false,
    "nbgrader": {
     "cell_type": "code",
     "checksum": "2221b89d6ba60c62d24c7d941732b33f",
     "grade": true,
     "grade_id": "test-task6",
     "locked": true,
     "points": 1,
     "schema_version": 3,
     "solution": false,
     "task": false
    }
   },
   "outputs": [],
   "source": [
    "t1 = time.time()\n",
    "min_height = task6()\n",
    "t2 = time.time()\n",
    "print (f\"Minimum height of stable orbit: {min_height} m.\")\n",
    "print (f\"Solution calculated in {t2-t1} seconds.\")\n"
   ]
  }
 ],
 "metadata": {
  "kernelspec": {
   "display_name": "Python 3",
   "language": "python",
   "name": "python3"
  },
  "language_info": {
   "codemirror_mode": {
    "name": "ipython",
    "version": 3
   },
   "file_extension": ".py",
   "mimetype": "text/x-python",
   "name": "python",
   "nbconvert_exporter": "python",
   "pygments_lexer": "ipython3",
   "version": "3.7.6"
  }
 },
 "nbformat": 4,
 "nbformat_minor": 2
}
