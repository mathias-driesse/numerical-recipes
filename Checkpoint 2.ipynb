{
 "cells": [
  {
   "cell_type": "markdown",
   "metadata": {
    "deletable": false,
    "editable": false,
    "nbgrader": {
     "cell_type": "markdown",
     "checksum": "ef563c69f70e4508d5d2186248842296",
     "grade": false,
     "grade_id": "header",
     "locked": true,
     "schema_version": 3,
     "solution": false,
     "task": false
    }
   },
   "source": [
    "# Checkpoint 2\n",
    "\n",
    "**Due: Friday, 6 November, 2020 at 5:00pm GMT**\n",
    "\n",
    "### Read This First\n",
    "1. Use the constants provided in the cell below. Do not use your own constants.\n",
    "\n",
    "2. Put the code that produces the output for a given task in the cell indicated. You are welcome to add as many cells as you like for imports, function definitions, variables, etc. **Additional cells need to be in the proper order such that your code runs correctly the first time through.**\n",
    "\n",
    "3. **IMPORTANT!** Before submitting your notebook, clear the output by clicking *Restart & Clear Output* from the *Kernel* menu. If you do not do this, the file size of your notebook will be very large."
   ]
  },
  {
   "cell_type": "code",
   "execution_count": 1,
   "metadata": {},
   "outputs": [],
   "source": [
    "import matplotlib.pyplot as plt\n",
    "%matplotlib inline\n",
    "import numpy as np\n",
    "import time\n",
    "\n",
    "from scipy.sparse.linalg import eigsh\n",
    "from scipy.sparse.linalg import spsolve\n",
    "from scipy.sparse import diags\n",
    "from scipy.sparse import identity\n",
    "\n",
    "plt.rcParams['figure.figsize'] = (10, 6)\n",
    "plt.rcParams['font.size'] = 16"
   ]
  },
  {
   "cell_type": "code",
   "execution_count": 2,
   "metadata": {},
   "outputs": [],
   "source": [
    "from scipy import integrate # a couple of necessary imports\n",
    "from scipy.linalg import eigh_tridiagonal"
   ]
  },
  {
   "cell_type": "markdown",
   "metadata": {
    "deletable": false,
    "editable": false,
    "nbgrader": {
     "cell_type": "markdown",
     "checksum": "97fb576f81dbdf14d16161118c8478ee",
     "grade": false,
     "grade_id": "section-task1",
     "locked": true,
     "schema_version": 3,
     "solution": false,
     "task": false
    }
   },
   "source": [
    "# Task 1 (25p)\n",
    "\n",
    "Find numerically the first 101 lowest eigenvalues (“energies”) of the discrete Hamiltonian matrix, H, for V=0 and x=0,...,L, with L=100, dx=1/8 and with reflecting boundary conditions:\n",
    "\n",
    "$\n",
    "\\begin{align}\n",
    "\\psi_N \\equiv \\psi_{N-1},\n",
    "\\end{align}\n",
    "$\n",
    "\n",
    "$\n",
    "\\begin{align}\n",
    "\\psi_{-1} \\equiv \\psi_0,\n",
    "\\end{align}\n",
    "$\n",
    "\n",
    "Here the index -1 denotes the element to the left of the element zero, not the element N-1 as in Python. Note that indices $-1, N$ refer to elements of $\\psi$ that are outside the matrix H.\n",
    "\n",
    "Hint: The eigenvalues, $w_n$, should be\n",
    "\n",
    "$\n",
    "\\large\n",
    "\\begin{align}\n",
    "w_n = \\frac{2\\left(1 - \\cos (\\frac{n \\pi}{N}) \\right)}{dx^2}\n",
    "\\end{align}\n",
    "$\n",
    "\n",
    "for n=0, 1,..., 100. The corresponding (non-normalized) eigenvectors, $v_n$ are\n",
    "\n",
    "$\n",
    "\\large\n",
    "\\begin{align}\n",
    "v_n = \\cos \\left( \\frac{n \\pi x}{L} \\right)\n",
    "\\end{align}\n",
    "$\n",
    "\n",
    "for x=0, dx,..., (N-1)dx."
   ]
  },
  {
   "cell_type": "code",
   "execution_count": 3,
   "metadata": {
    "deletable": false,
    "editable": false,
    "nbgrader": {
     "cell_type": "code",
     "checksum": "3b96418e8d805191fab5578bfe1d9c6c",
     "grade": false,
     "grade_id": "constants-task1",
     "locked": true,
     "schema_version": 3,
     "solution": false,
     "task": false
    }
   },
   "outputs": [
    {
     "name": "stdout",
     "output_type": "stream",
     "text": [
      "Matrix size: 800.\n"
     ]
    }
   ],
   "source": [
    "### Values for task 1\n",
    "L  = 100\n",
    "dx = 1/8\n",
    "N  = int(L/dx)\n",
    "print(f\"Matrix size: {N}.\")"
   ]
  },
  {
   "cell_type": "markdown",
   "metadata": {
    "deletable": false,
    "editable": false,
    "nbgrader": {
     "cell_type": "markdown",
     "checksum": "f0ae58bad90ae10f41964fb2483fcd7a",
     "grade": false,
     "grade_id": "section-task1-cont",
     "locked": true,
     "schema_version": 3,
     "solution": false,
     "task": false
    }
   },
   "source": [
    "In the cell below, compute the 101 lowest eigenvalues given the values of V, L, and dx from above. The function, `task1` should return an array of the eigenvalues.\n",
    "\n",
    "It may be useful to write a generalized function for creating the Hamiltonian given values of N, dx, and V."
   ]
  },
  {
   "cell_type": "code",
   "execution_count": 4,
   "metadata": {
    "deletable": false,
    "nbgrader": {
     "cell_type": "code",
     "checksum": "2a540aba8afd7cc72f9f22b65262e589",
     "grade": false,
     "grade_id": "function-task1",
     "locked": false,
     "schema_version": 3,
     "solution": true,
     "task": false
    }
   },
   "outputs": [
    {
     "data": {
      "text/plain": [
       "array([-2.15386522e-14,  9.86959172e-04,  3.94782147e-03,  8.88254123e-03,\n",
       "        1.57910423e-02,  2.46732183e-02,  3.55289321e-02,  4.83580163e-02,\n",
       "        6.31602732e-02,  7.99354744e-02,  9.86833612e-02,  1.19403645e-01,\n",
       "        1.42096005e-01,  1.66760092e-01,  1.93395526e-01,  2.22001896e-01,\n",
       "        2.52578761e-01,  2.85125649e-01,  3.19642059e-01,  3.56127457e-01,\n",
       "        3.94581282e-01,  4.35002941e-01,  4.77391809e-01,  5.21747234e-01,\n",
       "        5.68068531e-01,  6.16354986e-01,  6.66605854e-01,  7.18820361e-01,\n",
       "        7.72997702e-01,  8.29137040e-01,  8.87237510e-01,  9.47298216e-01,\n",
       "        1.00931823e+00,  1.07329660e+00,  1.13923234e+00,  1.20712442e+00,\n",
       "        1.27697181e+00,  1.34877343e+00,  1.42252816e+00,  1.49823488e+00,\n",
       "        1.57589240e+00,  1.65549955e+00,  1.73705508e+00,  1.82055775e+00,\n",
       "        1.90600625e+00,  1.99339928e+00,  2.08273549e+00,  2.17401350e+00,\n",
       "        2.26723191e+00,  2.36238926e+00,  2.45948411e+00,  2.55851494e+00,\n",
       "        2.65948024e+00,  2.76237844e+00,  2.86720797e+00,  2.97396719e+00,\n",
       "        3.08265447e+00,  3.19326813e+00,  3.30580647e+00,  3.42026774e+00,\n",
       "        3.53665019e+00,  3.65495202e+00,  3.77517140e+00,  3.89730648e+00,\n",
       "        4.02135538e+00,  4.14731618e+00,  4.27518694e+00,  4.40496570e+00,\n",
       "        4.53665044e+00,  4.67023914e+00,  4.80572973e+00,  4.94312014e+00,\n",
       "        5.08240823e+00,  5.22359187e+00,  5.36666887e+00,  5.51163703e+00,\n",
       "        5.65849411e+00,  5.80723784e+00,  5.95786594e+00,  6.11037608e+00,\n",
       "        6.26476591e+00,  6.42103305e+00,  6.57917509e+00,  6.73918958e+00,\n",
       "        6.90107407e+00,  7.06482605e+00,  7.23044300e+00,  7.39792237e+00,\n",
       "        7.56726157e+00,  7.73845800e+00,  7.91150900e+00,  8.08641192e+00,\n",
       "        8.26316405e+00,  8.44176268e+00,  8.62220504e+00,  8.80448835e+00,\n",
       "        8.98860981e+00,  9.17456656e+00,  9.36235576e+00,  9.55197449e+00,\n",
       "        9.74341984e+00])"
      ]
     },
     "execution_count": 4,
     "metadata": {},
     "output_type": "execute_result"
    }
   ],
   "source": [
    "def Hamiltonian(N, dx, V):\n",
    "    \"\"\"\n",
    "    Creates a hamiltonian of dimensions N x N based on dx and the potential\n",
    "    \"\"\"\n",
    "    L = - diags([1, -2, 1], [-1, 0, 1], shape=(N, N)).toarray()\n",
    "    L[0,0] = 1\n",
    "    L[N-1,N-1] = 1\n",
    "    L = L/dx**2\n",
    "    return L\n",
    "\n",
    "def task1():\n",
    "    hevals, hevecs = eigsh(H, 101, which = 'SM') # finds the 101 smallest eigenvectors and eigenvalues\n",
    "    return hevals\n",
    "H = Hamiltonian(N, dx, 0)\n",
    "task1()\n",
    "    "
   ]
  },
  {
   "cell_type": "markdown",
   "metadata": {
    "deletable": false,
    "editable": false,
    "nbgrader": {
     "cell_type": "markdown",
     "checksum": "a305e20dabd91962b111fda679d05c27",
     "grade": false,
     "grade_id": "section-testing-task1",
     "locked": true,
     "schema_version": 3,
     "solution": false,
     "task": false
    }
   },
   "source": [
    "## Testing task 1\n",
    "\n",
    "The cell below will run your function and compare it with the expected values."
   ]
  },
  {
   "cell_type": "code",
   "execution_count": 5,
   "metadata": {
    "deletable": false,
    "editable": false,
    "nbgrader": {
     "cell_type": "code",
     "checksum": "807d873c64673010810b7a92b3e122b0",
     "grade": true,
     "grade_id": "test-task1",
     "locked": true,
     "points": 0,
     "schema_version": 3,
     "solution": false,
     "task": false
    }
   },
   "outputs": [
    {
     "name": "stdout",
     "output_type": "stream",
     "text": [
      "Time to solution: 1.5060064792633057 seconds.\n"
     ]
    },
    {
     "data": {
      "image/png": "[encoded data removed]",
      "text/plain": [
       "<Figure size 720x432 with 1 Axes>"
      ]
     },
     "metadata": {
      "needs_background": "light"
     },
     "output_type": "display_data"
    },
    {
     "name": "stdout",
     "output_type": "stream",
     "text": [
      "Max difference is 5.422113939488652e-12.\n"
     ]
    }
   ],
   "source": [
    "t1 = time.time()\n",
    "ww = task1()\n",
    "t2 = time.time()\n",
    "print (f\"Time to solution: {t2-t1} seconds.\")\n",
    "\n",
    "my_n = np.arange(101)\n",
    "ww_expected = 2 * (1 - np.cos(my_n*np.pi/N)) / dx**2\n",
    "\n",
    "plt.plot(my_n, ww, label='Computed', alpha=0.8)\n",
    "plt.plot(my_n, ww_expected, label='Expected', linewidth=2, linestyle='--', alpha=0.8)\n",
    "plt.xlabel(r'$n$')\n",
    "plt.ylabel(r'$w_{n}$')\n",
    "plt.legend()\n",
    "plt.show()\n",
    "\n",
    "diff = np.abs(ww - ww_expected) / np.max(np.abs([ww, ww_expected]), axis=0)\n",
    "print (f\"Max difference is {diff[1:].max()}.\")\n",
    "assert (diff[1:] < 1e-6).all()"
   ]
  },
  {
   "cell_type": "markdown",
   "metadata": {
    "deletable": false,
    "editable": false,
    "nbgrader": {
     "cell_type": "markdown",
     "checksum": "6b54b11725241c0fc135be932c0dc0bf",
     "grade": false,
     "grade_id": "section-task2",
     "locked": true,
     "schema_version": 3,
     "solution": false,
     "task": false
    }
   },
   "source": [
    "# Task 2 (5p)\n",
    "\n",
    "Select dx as a negative power of two ($dx=2^{-n}$ for n>0) such that the 101th eigenvalue differs from the dx$\\rightarrow$0 limiting value of\n",
    "\n",
    "$\n",
    "\\begin{align}\n",
    "w_{101,exact} = \\frac{(100\\pi/N)^{2}}{dx^2}\n",
    "\\end{align}\n",
    "$\n",
    "\n",
    "by less than 0.1%, i.e., $|w_{101}/w_{101,exact}-1|<0.001$.\n",
    "\n",
    "Motivation: selecting a sufficiently small dx is required to obtain a good approximation to the original (continuous) equation (1) for subsequent tasks.\n",
    "\n",
    "In the cell below, compute a value of dx that satisfies the above contraint. The function `task2` should return the value of dx that you have calculated."
   ]
  },
  {
   "cell_type": "code",
   "execution_count": 6,
   "metadata": {
    "deletable": false,
    "nbgrader": {
     "cell_type": "code",
     "checksum": "564c94d57db0859bc5bc3dd8c130330d",
     "grade": false,
     "grade_id": "function-task2",
     "locked": false,
     "schema_version": 3,
     "solution": true,
     "task": false
    }
   },
   "outputs": [
    {
     "name": "stdout",
     "output_type": "stream",
     "text": [
      "0.03125\n"
     ]
    }
   ],
   "source": [
    "def get_w101(N, dx):\n",
    "    d = 2 * 1/dx**2 * np.ones(N) # create middle diagonal\n",
    "    d[0], d[-1] = 0.5 * d[0], 0.5*d[-1] # add boundary conditions\n",
    "    e = -1/dx**2 * np.ones(N-1) # create side diagonals\n",
    "    w101, _ = eigh_tridiagonal(d, e, select = 'i', select_range = (0, 100)) # solve for first 101 eigs\n",
    "    return w101[-1] # return 101st eigenvalue\n",
    "\n",
    "\n",
    "def task2():\n",
    "    n = 1 # initial conditions\n",
    "    dx = 2**(-n) # d is always a power of 2\n",
    "    N = int(L/dx)\n",
    "    w_exact = ((100 * np.pi / N)**2)/(dx**2) # calculates the exact n\n",
    "    w_101 = get_w101(N, dx) # calculates the numerical w101\n",
    "    \n",
    "    while np.abs(w_101/w_exact - 1) > 0.001: # continue to loop as long as above constraint is not satisfied\n",
    "        n += 1\n",
    "        dx = 2**(-n)\n",
    "        N = int(L/dx)\n",
    "        w_exact = ((100 * np.pi / N)**2)/(dx**2) # recalculate w_exact and w_101\n",
    "        w_101 = get_w101(N, dx)\n",
    "    return dx\n",
    "\n",
    "print(task2())"
   ]
  },
  {
   "cell_type": "markdown",
   "metadata": {
    "deletable": false,
    "editable": false,
    "nbgrader": {
     "cell_type": "markdown",
     "checksum": "39641e91784f331101fec867e65e432a",
     "grade": false,
     "grade_id": "section-testing-task2",
     "locked": true,
     "schema_version": 3,
     "solution": false,
     "task": false
    }
   },
   "source": [
    "## Testing task 2\n",
    "\n",
    "The cell below will run the `task2` function. We will verify that value of dx return satisfies the criterion outlined above."
   ]
  },
  {
   "cell_type": "code",
   "execution_count": 7,
   "metadata": {
    "deletable": false,
    "editable": false,
    "nbgrader": {
     "cell_type": "code",
     "checksum": "c5bc499d8c9b1e1acf2400536aa6dd26",
     "grade": true,
     "grade_id": "test-task2",
     "locked": true,
     "points": 0,
     "schema_version": 3,
     "solution": false,
     "task": false
    }
   },
   "outputs": [
    {
     "name": "stdout",
     "output_type": "stream",
     "text": [
      "Time to solution: 0.33437156677246094 seconds.\n"
     ]
    }
   ],
   "source": [
    "t1 = time.time()\n",
    "my_dx = task2()\n",
    "t2 = time.time()\n",
    "print (f\"Time to solution: {t2-t1} seconds.\")\n"
   ]
  },
  {
   "cell_type": "markdown",
   "metadata": {
    "deletable": false,
    "editable": false,
    "nbgrader": {
     "cell_type": "markdown",
     "checksum": "f2e4dcb87cfbbe6722c352b2f9bc17a7",
     "grade": false,
     "grade_id": "section-task3",
     "locked": true,
     "schema_version": 3,
     "solution": false,
     "task": false
    }
   },
   "source": [
    "# Task 3 (20p)\n",
    "\n",
    "Solve equation (1) with the initial condition (2) (the Schroedinger equation and the Gaussian function from the checkpoint's description) for V(x)=0, on a domain x=0...100, for t=0...4 and dx from task 2. Plot $|\\psi(x,t)|^2$ and determine its mean given by\n",
    "\n",
    "$\n",
    "\\large\n",
    "\\begin{align}\n",
    "<x>\\ = \\int_{0}^{100} |ψ(x)|^2 x dx.\n",
    "\\end{align}\n",
    "$\n",
    "\n",
    "The mean should be equal to 79$\\pm$-1.\n",
    "\n",
    "Hint: use the procedure for creating the Hamiltonian matrix from tasks 1, 2. This will reduce the amount of coding required."
   ]
  },
  {
   "cell_type": "code",
   "execution_count": 8,
   "metadata": {
    "deletable": false,
    "editable": false,
    "nbgrader": {
     "cell_type": "code",
     "checksum": "9a9e978c8645282513b821173f09c460",
     "grade": false,
     "grade_id": "constants-task3",
     "locked": true,
     "schema_version": 3,
     "solution": false,
     "task": false
    }
   },
   "outputs": [],
   "source": [
    "### Constants for task 3 and 4\n",
    "x0     = 15\n",
    "v      = 16\n",
    "sigma2 = 5\n",
    "tmax   = 4"
   ]
  },
  {
   "cell_type": "code",
   "execution_count": 9,
   "metadata": {},
   "outputs": [],
   "source": [
    "def psi_0(x):\n",
    "    \"\"\"\n",
    "    Creates a basic wavefunction\n",
    "    \"\"\"\n",
    "    return np.exp(-(((x-x0)**2)/(2*sigma2)) + (1j*v*x/2))\n",
    "\n",
    "def psi_0_abs(x):\n",
    "    \"\"\"\n",
    "    Creates a mean squared wavefunction\n",
    "    \"\"\"\n",
    "    return np.abs(psi_0(x))**2\n",
    "\n",
    "\n",
    "def create_normalized_wavefunction(x, v):\n",
    "    \"\"\"\n",
    "    Creates a normalized wavefunction\n",
    "    \"\"\"\n",
    "    u = np.exp(-(((x-x0)**2)/(2*sigma2)) + (1j*v*x/2)) # normal wavefunction\n",
    "    c = np.sqrt(integrate.quad(psi_0_abs, 0, L)[0]) # normalization factor\n",
    "    return u/c\n",
    "    \n",
    "def calc_eigens(V, n_eigen):\n",
    "    d = 2 * 1/dx**2 * np.ones(N) # create middle diagonal\n",
    "    d[0], d[-1] = 0.5 * d[0], 0.5*d[-1] # add boundary conditions\n",
    "    d += V # add potential\n",
    "    e = -1/dx**2 * np.ones(N-1) # create side diagonals\n",
    "    lam, phi = eigh_tridiagonal(d, e, select = 'i', select_range = (0, n_eigen)) # calculate eigens\n",
    "    return lam, phi # return eigens\n",
    "    \n",
    "def calc_a(phi, psi):\n",
    "    a = phi.T.dot(psi) # from spectral method, calculates a\n",
    "    return a\n",
    "    \n",
    "def J_12(psi):\n",
    "    j = -1j*(np.conjugate(psi)*np.gradient(psi, dx) - psi*np.gradient(np.conjugate(psi), dx)) # from formula above\n",
    "    j_x = float(np.real(j[1])) # evaluates j at the middle term (of three)\n",
    "    return j_x\n",
    "    \n",
    "def sum_spectral_reduced(a, lam, phi, t_final):\n",
    "    \"\"\"\n",
    "    As in sum_spectral, but focuses only on the middle three terms around L/2\n",
    "    \"\"\"\n",
    "    phi = phi[int(N/2-1):int(N/2)+2,] # truncates phi to only the middle 3 terms\n",
    "    u = np.zeros(3) # new wavefunction around L/2\n",
    "    for i in range(lam.size):\n",
    "        u = np.add(u, a[i] * np.exp(-1j * lam[i] * t_final) * phi[:, i]) # spectral sum\n",
    "    return u # returns final wavefunction\n",
    "\n",
    "def sum_spectral(a, lam, phi, t_final):\n",
    "    \"\"\"\n",
    "    Propagates a wavefunction forward in time to t_final\n",
    "    \"\"\"\n",
    "    u = np.zeros(N) # new wavefunction everywhere\n",
    "    for i in range(lam.size):\n",
    "        u = np.add(u, a[i] * np.exp(-1j * lam[i] * t_final) * phi[:, i]) # spectral sum\n",
    "    return u # returns final wavefunction\n",
    "    \n",
    "def random_potential():\n",
    "    \"\"\"\n",
    "    Creates a random potential for task 7\n",
    "    \"\"\"\n",
    "    bs = 0.125 + np.random.random(100)/4 # random bs according to task 7\n",
    "    V7 = np.zeros(N) # new potential\n",
    "    for j in range(0, 100):\n",
    "        V7[np.abs(xs - j) < bs[j]] = 70 # Makes only valid values 7\n",
    "    return V7\n",
    "    "
   ]
  },
  {
   "cell_type": "markdown",
   "metadata": {
    "deletable": false,
    "editable": false,
    "nbgrader": {
     "cell_type": "markdown",
     "checksum": "1e27c438de19cefd35bfacb16b3d74e8",
     "grade": false,
     "grade_id": "section-plot-task3",
     "locked": true,
     "schema_version": 3,
     "solution": false,
     "task": false
    }
   },
   "source": [
    "## Task 3 plot and result\n",
    "\n",
    "In the cell(s) below, do the following:\n",
    "1. Solve equation (1) for t=0...4 and plot $|\\psi(x,t=0)|^2$ and $|\\psi(x,t=tmax)|^2$ as a function of x.\n",
    "2. Compute the mean of the final position and print the value. The correct result should be between 78 and 80.\n",
    "\n",
    "Don't forget to nomalize your Gaussian initial condition so that the total probability $\\int_0^L |\\psi(x,t=0)|^2 dx=1$. \n",
    "\n",
    "You do not have to wrap up the calculation in a function \"task3()\", but doing so may help to reduce the amount of coding for tasks 4-6."
   ]
  },
  {
   "cell_type": "code",
   "execution_count": 10,
   "metadata": {},
   "outputs": [],
   "source": [
    "dx = 2**-5 # dx from task 2\n",
    "N = int(L/dx)\n",
    "xs = np.linspace(0, L-dx, N) # we do -dx so that the difference between consecutive values is dx"
   ]
  },
  {
   "cell_type": "code",
   "execution_count": null,
   "metadata": {
    "deletable": false,
    "nbgrader": {
     "cell_type": "code",
     "checksum": "46aef034c85233969d2a90e3f1e102b1",
     "grade": true,
     "grade_id": "function-task3",
     "locked": false,
     "points": 0,
     "schema_version": 3,
     "solution": true,
     "task": false
    }
   },
   "outputs": [],
   "source": []
  },
  {
   "cell_type": "code",
   "execution_count": 11,
   "metadata": {},
   "outputs": [
    {
     "name": "stdout",
     "output_type": "stream",
     "text": [
      "78.33232109516698\n"
     ]
    },
    {
     "data": {
      "image/png": "[encoded data removed]",
      "text/plain": [
       "<Figure size 720x432 with 1 Axes>"
      ]
     },
     "metadata": {
      "needs_background": "light"
     },
     "output_type": "display_data"
    }
   ],
   "source": [
    "def task3():    \n",
    "    psi3 = create_normalized_wavefunction(xs, v) # creates a normalized wavefunction\n",
    "    lam, phi = calc_eigens(0, 500) # calculates eigenvalues and eigenfunctions\n",
    "    a = calc_a(phi, psi3) # calculates a\n",
    "    psi3_final = sum_spectral(a, lam, phi, t_final = 4) # propagates psi3 forward to t = 4\n",
    "    plt.plot(xs, np.abs(psi3)**2, label = '$|\\psi(x, t = 0)|^2$') # plots initial wavefunction\n",
    "    plt.plot(xs, np.abs(psi3_final)**2, label = '$|\\psi(x), t = t_{final}|^2$') # plots wavefunction at t_final\n",
    "    plt.ylabel('$|\\psi(x)|^2$')\n",
    "    plt.xlabel('Position')\n",
    "    plt.legend()\n",
    "    pos = integrate.simps(xs*np.abs(psi3_final)**2, xs) # numerical integration to obtain mean position\n",
    "    print(pos)\n",
    "    \n",
    "task3()"
   ]
  },
  {
   "cell_type": "markdown",
   "metadata": {
    "deletable": false,
    "editable": false,
    "nbgrader": {
     "cell_type": "markdown",
     "checksum": "78f9c05ab558663eee6abd74c130f534",
     "grade": false,
     "grade_id": "section-task4",
     "locked": true,
     "schema_version": 3,
     "solution": false,
     "task": false
    }
   },
   "source": [
    "# Task 4 (10p)\n",
    "\n",
    "Now repeat task 3 for a potential made up of regularly spaced wells such that\n",
    "\n",
    "V=70 for |x-i| < 0.25 where i=0,1,...,100,\n",
    "\n",
    "and V=0 elsewhere.\n",
    "\n",
    "Plot the potential. It should be $V=70$ for $x=0...0.25$, $V=0$ for $x=0.25...0.75$, $V=70$ for $x=0.75...1.25$, and so on.\n",
    "\n",
    "Determine the mean of $|\\psi(x,t)|^2$ as before, with accuracy $\\pm$1.\n",
    "\n",
    "Make sure that dx and dt are sufficiently small to achieve this accuracy!\n",
    "\n",
    "In the cell below, create the potential and plot it over the range [0, 3]."
   ]
  },
  {
   "cell_type": "code",
   "execution_count": 12,
   "metadata": {
    "deletable": false,
    "nbgrader": {
     "cell_type": "code",
     "checksum": "a2c019e4771e7c2e39134e8f9f73c1fb",
     "grade": false,
     "grade_id": "function-task4",
     "locked": false,
     "schema_version": 3,
     "solution": true,
     "task": false
    }
   },
   "outputs": [
    {
     "data": {
      "image/png": "[encoded data removed]",
      "text/plain": [
       "<Figure size 720x432 with 1 Axes>"
      ]
     },
     "metadata": {
      "needs_background": "light"
     },
     "output_type": "display_data"
    }
   ],
   "source": [
    "def task4_part1():\n",
    "    V4 = np.zeros(N)\n",
    "    for i in range(0, 101):\n",
    "        V4[np.abs(xs - i) < 0.25] = 70\n",
    "        \n",
    "    plt.plot(xs, V4)\n",
    "    plt.xlim(0, 3)\n",
    "    plt.xlabel('$x$')\n",
    "    plt.ylabel('$V$')\n",
    "    return V4\n",
    "    \n",
    "V4 = task4_part1()\n"
   ]
  },
  {
   "cell_type": "markdown",
   "metadata": {
    "deletable": false,
    "editable": false,
    "nbgrader": {
     "cell_type": "markdown",
     "checksum": "a677f62e1ff93e1705edb79f9ffda1c5",
     "grade": false,
     "grade_id": "section-task4-cont",
     "locked": true,
     "schema_version": 3,
     "solution": false,
     "task": false
    }
   },
   "source": [
    "# Task 4 continued\n",
    "\n",
    "In the cell below, repeat task 3 with the new potential."
   ]
  },
  {
   "cell_type": "code",
   "execution_count": null,
   "metadata": {
    "deletable": false,
    "nbgrader": {
     "cell_type": "code",
     "checksum": "2d5de27a32e1e00fc6b5b0ac93f2fc64",
     "grade": false,
     "grade_id": "answer-task4",
     "locked": false,
     "schema_version": 3,
     "solution": true,
     "task": false
    }
   },
   "outputs": [],
   "source": []
  },
  {
   "cell_type": "code",
   "execution_count": 13,
   "metadata": {},
   "outputs": [
    {
     "name": "stdout",
     "output_type": "stream",
     "text": [
      "56.4078493396956\n"
     ]
    },
    {
     "data": {
      "image/png": "[encoded data removed]",
      "text/plain": [
       "<Figure size 720x432 with 1 Axes>"
      ]
     },
     "metadata": {
      "needs_background": "light"
     },
     "output_type": "display_data"
    }
   ],
   "source": [
    "def task4_part2():\n",
    "    psi4 = create_normalized_wavefunction(xs, v) # creates normalized wavefunctions\n",
    "    lam, phi = calc_eigens(V4, 1000) # calculates eigenvalues and eigenfunctions\n",
    "    a = calc_a(phi, psi4) # calculates a\n",
    "    psi4_final = sum_spectral(a, lam, phi, t_final = 4) # propagates psi4 forward in time\n",
    "    plt.plot(xs, np.abs(psi4)**2, label = '$|\\psi(x, t = 0)|^2$') # plots initial wavefunction\n",
    "    plt.plot(xs, np.abs(psi4_final)**2, label = '$|\\psi(x), t = t_{final}|^2$') # plots wavefunction at t_final\n",
    "    plt.ylabel('$|\\psi(x)|^2$')\n",
    "    plt.xlabel('Position')\n",
    "    plt.legend()\n",
    "    pos = integrate.simps(xs*np.abs(psi4_final)**2, xs) # numerical integration to obtain mean position\n",
    "    print(pos)\n",
    "\n",
    "task4_part2()"
   ]
  },
  {
   "cell_type": "markdown",
   "metadata": {
    "deletable": false,
    "editable": false,
    "nbgrader": {
     "cell_type": "markdown",
     "checksum": "6132662c54c849e9968cb221ea16659f",
     "grade": false,
     "grade_id": "section-task5",
     "locked": true,
     "schema_version": 3,
     "solution": false,
     "task": false
    }
   },
   "source": [
    "# Task 5 (15p)\n",
    "\n",
    "Calculate the probability $P_{1/2}$ of the particle moving through the point x=L/2 by integrating the probability current \n",
    "\n",
    "$\n",
    "\\large\n",
    "\\begin{align}\n",
    "j = (\\psi^*  \\frac{\\partial \\psi}{\\partial x} -\n",
    "\\psi \\frac{\\partial \\psi^*}{\\partial x})(x=L/2)\n",
    "\\end{align}\n",
    "$\n",
    "\n",
    "over time, for t=0...4. The probability can deviate from the true value by no more than $\\pm$0.01 (hint: the correct value is between 0.5 and 1).\n",
    "\n",
    "In the cell below, calculate the probability and print your answer."
   ]
  },
  {
   "cell_type": "code",
   "execution_count": null,
   "metadata": {
    "deletable": false,
    "nbgrader": {
     "cell_type": "code",
     "checksum": "69036dbb6598c88ed2c686173d93177a",
     "grade": false,
     "grade_id": "function-task5",
     "locked": false,
     "schema_version": 3,
     "solution": true,
     "task": false
    }
   },
   "outputs": [],
   "source": [
    "                                                         "
   ]
  },
  {
   "cell_type": "code",
   "execution_count": 14,
   "metadata": {},
   "outputs": [
    {
     "name": "stdout",
     "output_type": "stream",
     "text": [
      "0.8160362700863832\n"
     ]
    }
   ],
   "source": [
    "dt = 1/64 # uses more precise dt here\n",
    "ts = np.arange(dt, 4+dt, dt)\n",
    "\n",
    "def task5():\n",
    "    psi5 = create_normalized_wavefunction(xs, v) # creates normalized wavefunction\n",
    "    lam, phi = calc_eigens(V4, 1000) # calculates eigenfunctions and eigenvalues\n",
    "    a = calc_a(phi, psi5) # calculates a\n",
    "    \"\"\"\n",
    "    The previous remain constant no matter the t, which is why they are not in the loop\n",
    "    \"\"\"\n",
    "    \n",
    "    js = []\n",
    "    for t in ts: # goes through ts\n",
    "        psi_temp = sum_spectral_reduced(a, lam, phi, t) # evolves for each t\n",
    "        J_temp = J_12(psi_temp) # calculates j for each evolved wavefunction\n",
    "        js.append(J_temp) # adds j_temp to the list\n",
    "    \n",
    "    p12 = integrate.simps(js, ts) # numerical integration of the probability current\n",
    "    print(p12)\n",
    "    \n",
    "task5()"
   ]
  },
  {
   "cell_type": "markdown",
   "metadata": {
    "deletable": false,
    "editable": false,
    "nbgrader": {
     "cell_type": "markdown",
     "checksum": "a5704cc71928fbf5402f80cfa8e06bb6",
     "grade": false,
     "grade_id": "section-task6",
     "locked": true,
     "schema_version": 3,
     "solution": false,
     "task": false
    }
   },
   "source": [
    "# Task 6 (15p)\n",
    "\n",
    "Plot the probability $P_{1/2}$ as a function of particle energy E=0...100, for at least 100 equally-spaced values from this range. All $P_{1/2}$ values should be within $\\pm$0.01 of the true values. Use the formula \n",
    "\n",
    "$\n",
    "\\large\n",
    "\\begin{align}\n",
    "E = \\frac{1}{4} v^2\n",
    "\\end{align}\n",
    "$\n",
    "\n",
    "to convert between energy and velocity (valid for Eqs. (1,2)).\n",
    "\n",
    "Bonus question: can you explain why the plot looks like this?\n",
    "\n",
    "Plot the probability in the cell below."
   ]
  },
  {
   "cell_type": "code",
   "execution_count": null,
   "metadata": {
    "deletable": false,
    "nbgrader": {
     "cell_type": "code",
     "checksum": "34248862ebaaf5a028b3f562b2fe6efc",
     "grade": false,
     "grade_id": "function-task6",
     "locked": false,
     "schema_version": 3,
     "solution": true,
     "task": false
    }
   },
   "outputs": [],
   "source": []
  },
  {
   "cell_type": "code",
   "execution_count": 17,
   "metadata": {},
   "outputs": [
    {
     "data": {
      "image/png": "[encoded data removed]",
      "text/plain": [
       "<Figure size 720x432 with 1 Axes>"
      ]
     },
     "metadata": {
      "needs_background": "light"
     },
     "output_type": "display_data"
    }
   ],
   "source": [
    "dt = 1/64 # less precise dts for speed here\n",
    "ts = np.arange(dt, 4+dt, dt)\n",
    "\n",
    "def task6():\n",
    "    Es = np.arange(0, 101, 1) # creates Es\n",
    "    vs = 2 * np.sqrt(Es) # calculate vs\n",
    "    \n",
    "    ps = []\n",
    "    \n",
    "    lam, phi = calc_eigens(V4, 1000) # eigenfunctions and eigenvalues, only need to be calculated once\n",
    "    for v in vs: # run for each v\n",
    "        psi = create_normalized_wavefunction(xs, v) #\n",
    "        a = calc_a(phi, psi)\n",
    "        js = []\n",
    "        for t in ts:\n",
    "            psi_temp = sum_spectral_reduced(a, lam, phi, t)\n",
    "            J_temp = J_12(psi_temp)\n",
    "            js.append(J_temp)\n",
    "    \n",
    "        p12_temp = integrate.simps(js, ts)\n",
    "        ps.append(p12_temp)\n",
    "    plt.plot(Es, ps)\n",
    "    plt.xlabel(\"Particle Energy E\")\n",
    "    plt.ylabel(\"$P_{1/2}$\")\n",
    "    \n",
    "task6()"
   ]
  },
  {
   "cell_type": "markdown",
   "metadata": {},
   "source": [
    "The initial peak would be the values for which $\\Psi$ would just spread out evenly. Afterwards, the probability increases with speed intuitively. My guess is that the dip happens because the higher energy wavefunctions bounce off one of the well walls and don't reflect back over. Afterwards, it increases because they have enough energy to bounce again once more past $L/2$."
   ]
  },
  {
   "cell_type": "markdown",
   "metadata": {
    "deletable": false,
    "editable": false,
    "nbgrader": {
     "cell_type": "markdown",
     "checksum": "395d9446d8ecec601bd2616f5aa01114",
     "grade": false,
     "grade_id": "section-task7",
     "locked": true,
     "schema_version": 3,
     "solution": false,
     "task": false
    }
   },
   "source": [
    "# Task 7 (10p)\n",
    "\n",
    "Assume again the initial condition of equation (2) with v=16, and consider a disordered potential in which\n",
    "\n",
    "V=70 for |x-i| < b$_i$ where i=0,1,...,100,\n",
    "\n",
    "and b$_i$ is a random variable uniformly distributed on [0.125, 0.375].\n",
    "\n",
    "Find the probability $P_{1/2}$ by averaging over 100 realizations of the random potential (must be accurate to $\\pm$0.02). Plot the histogram of $P_{1/2}$. Comment on the value of $P_{1/2}$ compared with task 5."
   ]
  },
  {
   "cell_type": "code",
   "execution_count": null,
   "metadata": {
    "deletable": false,
    "nbgrader": {
     "cell_type": "code",
     "checksum": "546417409ea0cf71ede0771b17aec4ca",
     "grade": false,
     "grade_id": "function-task7",
     "locked": false,
     "schema_version": 3,
     "solution": true,
     "task": false
    }
   },
   "outputs": [],
   "source": []
  },
  {
   "cell_type": "code",
   "execution_count": null,
   "metadata": {
    "deletable": false,
    "nbgrader": {
     "cell_type": "code",
     "checksum": "6bd69d5861aa9544b04e3873d9ae0379",
     "grade": false,
     "grade_id": "answer-task7",
     "locked": false,
     "schema_version": 3,
     "solution": true,
     "task": false
    }
   },
   "outputs": [],
   "source": []
  },
  {
   "cell_type": "code",
   "execution_count": 16,
   "metadata": {},
   "outputs": [
    {
     "name": "stdout",
     "output_type": "stream",
     "text": [
      "0.045879369613301454\n"
     ]
    },
    {
     "data": {
      "image/png": "[encoded data removed]",
      "text/plain": [
       "<Figure size 720x432 with 1 Axes>"
      ]
     },
     "metadata": {
      "needs_background": "light"
     },
     "output_type": "display_data"
    }
   ],
   "source": [
    "def task7():\n",
    "    v = 16 # original v\n",
    "    psi7 = create_normalized_wavefunction(xs, v) # create a normalized wavefunction\n",
    "    \n",
    "    ps = []\n",
    "    for i in range(100):\n",
    "        V7 = random_potential() # creates a random potential\n",
    "        lam, phi = calc_eigens(V7, 500) # calculates eigenvalues. Only 500 for speed\n",
    "        a = calc_a(phi, psi7) # calculate a\n",
    "        js = [] #\n",
    "        for t in ts:\n",
    "            psi_temp = sum_spectral_reduced(a, lam, phi, t) #  propagates middle 3 elements of wavefunction to time t\n",
    "            J_temp = J_12(psi_temp) # calculates j\n",
    "            js.append(J_temp)\n",
    "    \n",
    "        p12_temp = integrate.simps(js, ts) # integrates j to find the probability\n",
    "        ps.append(p12_temp)\n",
    "        \n",
    "    ps = np.array(ps) \n",
    "    ps_mean = np.mean(ps) # computes mean probability\n",
    "        \n",
    "    hist, bins, p = plt.hist(ps, bins=25) # plots histogram\n",
    "    plt.xlabel(\"Probabilities\")\n",
    "    plt.ylabel(\"Frequency\")\n",
    "    print(ps_mean)\n",
    "    \n",
    "task7()"
   ]
  },
  {
   "cell_type": "markdown",
   "metadata": {},
   "source": [
    "The value of $P_1/2$ is much lower than for task 5. This would show that even though the mean separation for the potentials is the same, the presence of outliers, such as a series of wells that are closer together than in the regular potential, reduces the ability of the wavefunction to propagate to the right."
   ]
  },
  {
   "cell_type": "code",
   "execution_count": null,
   "metadata": {},
   "outputs": [],
   "source": []
  }
 ],
 "metadata": {
  "kernelspec": {
   "display_name": "Python 3",
   "language": "python",
   "name": "python3"
  },
  "language_info": {
   "codemirror_mode": {
    "name": "ipython",
    "version": 3
   },
   "file_extension": ".py",
   "mimetype": "text/x-python",
   "name": "python",
   "nbconvert_exporter": "python",
   "pygments_lexer": "ipython3",
   "version": "3.7.6"
  }
 },
 "nbformat": 4,
 "nbformat_minor": 4
}
